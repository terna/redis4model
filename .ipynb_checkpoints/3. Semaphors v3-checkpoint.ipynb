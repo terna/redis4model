{
 "cells": [
  {
   "cell_type": "code",
   "execution_count": null,
   "metadata": {},
   "outputs": [],
   "source": [
    "import subprocess\n",
    "import redis\n",
    "import random\n",
    "import time\n",
    "import oct2py\n",
    "from oct2py import octave\n",
    "import asyncio"
   ]
  },
  {
   "cell_type": "code",
   "execution_count": null,
   "metadata": {},
   "outputs": [],
   "source": [
    "# Start the Python script\n",
    "python_process = subprocess.Popen([\"python\", \"3_python.py\"])\n",
    "\n",
    "# Start the Octave script\n",
    "octave_process = subprocess.Popen([\"octave\", \"3_octave.m\"])\n",
    "\n",
    "# Wait for processes to complete\n",
    "try:\n",
    "    python_process.wait()\n",
    "    octave_process.wait()\n",
    "except KeyboardInterrupt:\n",
    "    python_process.terminate()\n",
    "    octave_process.terminate()"
   ]
  },
  {
   "cell_type": "code",
   "execution_count": null,
   "metadata": {
    "scrolled": true
   },
   "outputs": [],
   "source": [
    "# Start the Python script\n",
    "python_process = subprocess.Popen([\"python\", \"3_python.py\"])\n",
    "\n",
    "# Start the Octave script\n",
    "octave_process = subprocess.Popen([\"octave\", \"3_octave.m\"])\n",
    "\n",
    "# Wait for processes to complete\n",
    "try:\n",
    "    python_process.wait()\n",
    "    octave_process.wait()\n",
    "except KeyboardInterrupt:\n",
    "    python_process.terminate()\n",
    "    octave_process.terminate()"
   ]
  },
  {
   "cell_type": "code",
   "execution_count": null,
   "metadata": {},
   "outputs": [],
   "source": []
  }
 ],
 "metadata": {
  "kernelspec": {
   "display_name": "Python 3 (ipykernel)",
   "language": "python",
   "name": "python3"
  },
  "language_info": {
   "codemirror_mode": {
    "name": "ipython",
    "version": 3
   },
   "file_extension": ".py",
   "mimetype": "text/x-python",
   "name": "python",
   "nbconvert_exporter": "python",
   "pygments_lexer": "ipython3",
   "version": "3.11.7"
  }
 },
 "nbformat": 4,
 "nbformat_minor": 4
}
