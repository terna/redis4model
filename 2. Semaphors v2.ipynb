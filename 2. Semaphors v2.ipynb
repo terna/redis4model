{
 "cells": [
  {
   "cell_type": "markdown",
   "metadata": {},
   "source": [
    "# Libraries"
   ]
  },
  {
   "cell_type": "code",
   "execution_count": 15,
   "metadata": {},
   "outputs": [],
   "source": [
    "import redis\n",
    "import random\n",
    "import time\n",
    "import oct2py\n",
    "from oct2py import octave\n",
    "import asyncio"
   ]
  },
  {
   "cell_type": "markdown",
   "metadata": {},
   "source": [
    "# Create Redis connection"
   ]
  },
  {
   "cell_type": "code",
   "execution_count": 16,
   "metadata": {},
   "outputs": [],
   "source": [
    "r = redis.Redis(host='localhost', port=6379, db=0)"
   ]
  },
  {
   "cell_type": "markdown",
   "metadata": {},
   "source": [
    "# Sending data (concurrent processing)"
   ]
  },
  {
   "cell_type": "markdown",
   "metadata": {},
   "source": [
    "## Python"
   ]
  },
  {
   "cell_type": "code",
   "execution_count": 17,
   "metadata": {},
   "outputs": [],
   "source": [
    "async def python_send_data():    \n",
    "    python_data = 'Data from Python'\n",
    "    await asyncio.sleep(30)\n",
    "    redis_key = 'python_data'\n",
    "    r.set(redis_key, python_data)"
   ]
  },
  {
   "cell_type": "markdown",
   "metadata": {},
   "source": [
    "## Octave"
   ]
  },
  {
   "cell_type": "code",
   "execution_count": 18,
   "metadata": {},
   "outputs": [],
   "source": [
    "oc = oct2py.Oct2Py()"
   ]
  },
  {
   "cell_type": "code",
   "execution_count": 19,
   "metadata": {},
   "outputs": [],
   "source": [
    "async def octave_send_data():\n",
    "    octave.run(\"2.a octave_send_data.m\", nout=0)"
   ]
  },
  {
   "cell_type": "code",
   "execution_count": 20,
   "metadata": {},
   "outputs": [
    {
     "name": "stdout",
     "output_type": "stream",
     "text": [
      "\u001b[?2004l\n",
      "\u001b[?2004l\n",
      "error: graphics_toolkit: = toolkit is not available\n",
      "error: called from\n",
      "    graphics_toolkit at line 84 column 5\n",
      "\u001b[?2004l\n",
      "** Pausing execution for 30.0 seconds.  Interrupt the kernel to abort pause.\n",
      "OK\n"
     ]
    }
   ],
   "source": [
    "async def main():\n",
    "    await asyncio.gather(python_send_data(), octave_send_data())\n",
    "\n",
    "# If not in an interactive environment, use asyncio.run(main())\n",
    "# In an interactive environment, use await main() directly\n",
    "await main()"
   ]
  },
  {
   "cell_type": "markdown",
   "metadata": {},
   "source": [
    "# Reading data"
   ]
  },
  {
   "cell_type": "code",
   "execution_count": 21,
   "metadata": {},
   "outputs": [
    {
     "name": "stdout",
     "output_type": "stream",
     "text": [
      "Python read: Data from Octave\n",
      "\n"
     ]
    }
   ],
   "source": [
    "redis_key = 'octave_data'\n",
    "data_str = r.get(redis_key)\n",
    "if data_str:\n",
    "    print(f\"Python read: {data_str.decode('utf-8')}\")\n",
    "else:\n",
    "    print(\"No data found from Octave\")"
   ]
  },
  {
   "cell_type": "code",
   "execution_count": 22,
   "metadata": {},
   "outputs": [
    {
     "name": "stdout",
     "output_type": "stream",
     "text": [
      "\u001b[?2004l\n",
      "\u001b[?2004l\n",
      "error: graphics_toolkit: = toolkit is not available\n",
      "error: called from\n",
      "    graphics_toolkit at line 84 column 5\n",
      "\u001b[?2004l\n",
      "Fetched Python data from Redis:\n",
      "Data from Python\n",
      "\n"
     ]
    }
   ],
   "source": [
    "octave.run(\"2.b octave_get_data.m\", nout=0)"
   ]
  }
 ],
 "metadata": {
  "kernelspec": {
   "display_name": "collaborazione_terna",
   "language": "python",
   "name": "python3"
  },
  "language_info": {
   "codemirror_mode": {
    "name": "ipython",
    "version": 3
   },
   "file_extension": ".py",
   "mimetype": "text/x-python",
   "name": "python",
   "nbconvert_exporter": "python",
   "pygments_lexer": "ipython3",
   "version": "3.1.undefined"
  }
 },
 "nbformat": 4,
 "nbformat_minor": 2
}
