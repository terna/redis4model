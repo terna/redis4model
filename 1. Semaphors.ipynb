{
 "cells": [
  {
   "cell_type": "markdown",
   "metadata": {},
   "source": [
    "# Libraries"
   ]
  },
  {
   "cell_type": "code",
   "execution_count": 52,
   "metadata": {},
   "outputs": [],
   "source": [
    "import redis\n",
    "import random\n",
    "import time\n",
    "import oct2py\n",
    "from oct2py import octave"
   ]
  },
  {
   "cell_type": "markdown",
   "metadata": {},
   "source": [
    "# Create Redis connection"
   ]
  },
  {
   "cell_type": "code",
   "execution_count": 53,
   "metadata": {},
   "outputs": [],
   "source": [
    "r = redis.Redis(host='localhost', port=6379, db=0)"
   ]
  },
  {
   "cell_type": "markdown",
   "metadata": {},
   "source": [
    "# Python"
   ]
  },
  {
   "cell_type": "markdown",
   "metadata": {},
   "source": [
    "Let's wait for some time, and then create random data and send it to Redis"
   ]
  },
  {
   "cell_type": "code",
   "execution_count": 54,
   "metadata": {},
   "outputs": [
    {
     "name": "stdout",
     "output_type": "stream",
     "text": [
      "Data written to Redis: 0.3201 0.8729 0.305 0.6158 0.4738 0.8328 0.2397 0.0191 0.9686 0.3599\n"
     ]
    }
   ],
   "source": [
    "time.sleep(3)\n",
    "random_data = [round(random.random(), 4) for _ in range(10)]\n",
    "data_str = ' '.join(map(str, random_data))\n",
    "redis_key = 'random_data'\n",
    "r.set(redis_key, data_str)\n",
    "print(f\"Data written to Redis: {data_str}\")"
   ]
  },
  {
   "cell_type": "markdown",
   "metadata": {},
   "source": [
    "# Octave"
   ]
  },
  {
   "cell_type": "markdown",
   "metadata": {},
   "source": []
  },
  {
   "cell_type": "code",
   "execution_count": 55,
   "metadata": {},
   "outputs": [
    {
     "name": "stdout",
     "output_type": "stream",
     "text": [
      "\u001b[?2004l\n",
      "ans = 11\n",
      "Result of a + b from Octave:\n",
      " 11.0\n"
     ]
    }
   ],
   "source": [
    "oc = oct2py.Oct2Py()\n",
    "x = oc.eval('a = 5; b = 6; a + b')\n",
    "print(\"Result of a + b from Octave:\\n\", x)"
   ]
  },
  {
   "cell_type": "code",
   "execution_count": 56,
   "metadata": {},
   "outputs": [
    {
     "name": "stdout",
     "output_type": "stream",
     "text": [
      "\u001b[?2004l\n",
      "\u001b[?2004l\n",
      "error: graphics_toolkit: = toolkit is not available\n",
      "error: called from\n",
      "    graphics_toolkit at line 84 column 5\n",
      "\u001b[?2004l\n",
      "\u001b[?2004l\n",
      "\u001b[?2004l\n",
      "error: graphics_toolkit: = toolkit is not available\n",
      "error: called from\n",
      "    graphics_toolkit at line 84 column 5\n",
      "\u001b[?2004l\n",
      "Hello from Octave!\n",
      "x = 5\n"
     ]
    }
   ],
   "source": [
    "octave.addpath(\"/Users/federico.bindi/Desktop/Collaborazione Pietro Terna/redis4model/octave\")\n",
    "octave.run(\"test.m\", nout=0)  # doctest: +SKIP"
   ]
  },
  {
   "cell_type": "code",
   "execution_count": 57,
   "metadata": {},
   "outputs": [
    {
     "name": "stdout",
     "output_type": "stream",
     "text": [
      "\u001b[?2004l\n",
      "\u001b[?2004l\n",
      "error: graphics_toolkit: = toolkit is not available\n",
      "error: called from\n",
      "    graphics_toolkit at line 84 column 5\n",
      "\u001b[?2004l\n",
      "OK\n",
      "0.3599 0.0389 0.8138 0.1878 0.0424 0.5630 0.9077 0.9613 0.2629 0.8853\n"
     ]
    }
   ],
   "source": [
    "octave.run(\"octave_redis_dump.m\", nout=0)"
   ]
  },
  {
   "cell_type": "markdown",
   "metadata": {},
   "source": [
    "## Storing Octave variables directly in Python\n"
   ]
  },
  {
   "cell_type": "code",
   "execution_count": 59,
   "metadata": {},
   "outputs": [
    {
     "name": "stdout",
     "output_type": "stream",
     "text": [
      "\u001b[?2004l\n",
      "error: graphics_toolkit: = toolkit is not available\n",
      "error: called from\n",
      "    graphics_toolkit at line 84 column 5\n",
      "\u001b[?2004l\n",
      "\u001b[?2004l\n",
      "Hello from Octave!\n",
      "x = 5\n"
     ]
    }
   ],
   "source": [
    "octave.eval(\"run('test.m')\")"
   ]
  },
  {
   "cell_type": "code",
   "execution_count": 60,
   "metadata": {},
   "outputs": [
    {
     "name": "stdout",
     "output_type": "stream",
     "text": [
      "\u001b[?2004l\n",
      "\u001b[?2004l\n",
      "error: graphics_toolkit: = toolkit is not available\n",
      "error: called from\n",
      "    graphics_toolkit at line 84 column 5\n",
      "\u001b[?2004l\n"
     ]
    },
    {
     "data": {
      "text/plain": [
       "5.0"
      ]
     },
     "execution_count": 60,
     "metadata": {},
     "output_type": "execute_result"
    }
   ],
   "source": [
    "x = octave.pull('x')\n",
    "x"
   ]
  }
 ],
 "metadata": {
  "kernelspec": {
   "display_name": "collaborazione_terna",
   "language": "python",
   "name": "python3"
  },
  "language_info": {
   "codemirror_mode": {
    "name": "ipython",
    "version": 3
   },
   "file_extension": ".py",
   "mimetype": "text/x-python",
   "name": "python",
   "nbconvert_exporter": "python",
   "pygments_lexer": "ipython3",
   "version": "3.1.undefined"
  }
 },
 "nbformat": 4,
 "nbformat_minor": 2
}
