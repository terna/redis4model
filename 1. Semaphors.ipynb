{
 "cells": [
  {
   "cell_type": "markdown",
   "metadata": {},
   "source": [
    "# Libraries"
   ]
  },
  {
   "cell_type": "code",
   "execution_count": 27,
   "metadata": {},
   "outputs": [],
   "source": [
    "import redis\n",
    "import random\n",
    "import time\n",
    "import oct2py\n",
    "from oct2py import octave"
   ]
  },
  {
   "cell_type": "markdown",
   "metadata": {},
   "source": [
    "# Create Redis connection"
   ]
  },
  {
   "cell_type": "code",
   "execution_count": 28,
   "metadata": {},
   "outputs": [],
   "source": [
    "r = redis.Redis(host='localhost', port=6379, db=0)"
   ]
  },
  {
   "cell_type": "markdown",
   "metadata": {},
   "source": [
    "# Python"
   ]
  },
  {
   "cell_type": "markdown",
   "metadata": {},
   "source": [
    "Let's wait for some time, and then create random data and send it to Redis"
   ]
  },
  {
   "cell_type": "code",
   "execution_count": 29,
   "metadata": {},
   "outputs": [
    {
     "name": "stdout",
     "output_type": "stream",
     "text": [
      "Data written to Redis: 0.9464 0.6334 0.1533 0.5077 0.5802 0.2733 0.5932 0.4772 0.2097 0.846\n"
     ]
    }
   ],
   "source": [
    "time.sleep(3)\n",
    "random_data = [round(random.random(), 4) for _ in range(10)]\n",
    "data_str = ' '.join(map(str, random_data))\n",
    "redis_key = 'random_data'\n",
    "r.set(redis_key, data_str)\n",
    "print(f\"Data written to Redis: {data_str}\")"
   ]
  },
  {
   "cell_type": "markdown",
   "metadata": {},
   "source": [
    "# Octave"
   ]
  },
  {
   "cell_type": "markdown",
   "metadata": {},
   "source": []
  },
  {
   "cell_type": "code",
   "execution_count": 30,
   "metadata": {},
   "outputs": [
    {
     "name": "stdout",
     "output_type": "stream",
     "text": [
      "\u001b[?2004l\n",
      "ans = 11\n",
      "Result of a + b from Octave:\n",
      " 11.0\n"
     ]
    }
   ],
   "source": [
    "oc = oct2py.Oct2Py()\n",
    "a = oc.eval('a = 5; b = 6; a + b')\n",
    "print(\"Result of a + b from Octave:\\n\", a)"
   ]
  },
  {
   "cell_type": "code",
   "execution_count": 31,
   "metadata": {},
   "outputs": [
    {
     "name": "stdout",
     "output_type": "stream",
     "text": [
      "\u001b[?2004l\n",
      "\u001b[?2004l\n",
      "error: graphics_toolkit: = toolkit is not available\n",
      "error: called from\n",
      "    graphics_toolkit at line 84 column 5\n",
      "\u001b[?2004l\n",
      "\u001b[?2004l\n",
      "\u001b[?2004l\n",
      "error: graphics_toolkit: = toolkit is not available\n",
      "error: called from\n",
      "    graphics_toolkit at line 84 column 5\n",
      "\u001b[?2004l\n",
      "Hello from Octave!\n"
     ]
    }
   ],
   "source": [
    "octave.addpath(\"/Users/federico.bindi/Desktop/Collaborazione Pietro Terna/redis4model/octave\")\n",
    "octave.run(\"test.m\", nout=0)  # doctest: +SKIP"
   ]
  },
  {
   "cell_type": "code",
   "execution_count": 33,
   "metadata": {},
   "outputs": [
    {
     "name": "stdout",
     "output_type": "stream",
     "text": [
      "\u001b[?2004l\n",
      "\u001b[?2004l\n",
      "error: graphics_toolkit: = toolkit is not available\n",
      "error: called from\n",
      "    graphics_toolkit at line 84 column 5\n",
      "\u001b[?2004l\n",
      "OK\n",
      "0.3781 0.1313 0.8446 0.0288 0.9328 0.7184 0.5925 0.4884 0.0979 0.8111\n"
     ]
    }
   ],
   "source": [
    "octave.run(\"octave_redis_dump.m\", nout=0)"
   ]
  }
 ],
 "metadata": {
  "kernelspec": {
   "display_name": "collaborazione_terna",
   "language": "python",
   "name": "python3"
  },
  "language_info": {
   "codemirror_mode": {
    "name": "ipython",
    "version": 3
   },
   "file_extension": ".py",
   "mimetype": "text/x-python",
   "name": "python",
   "nbconvert_exporter": "python",
   "pygments_lexer": "ipython3",
   "version": "3.10.9"
  }
 },
 "nbformat": 4,
 "nbformat_minor": 2
}
