{
 "cells": [
  {
   "cell_type": "markdown",
   "id": "4cb8c84f-9060-4918-8acb-a0c2be5fb025",
   "metadata": {},
   "source": [
    "https://www.html.it/pag/72748/programmazione-con-python/ 3.8.24"
   ]
  },
  {
   "cell_type": "code",
   "execution_count": 2,
   "id": "99e0d0bc-3753-471c-bf05-9ed484e64a15",
   "metadata": {},
   "outputs": [
    {
     "name": "stdout",
     "output_type": "stream",
     "text": [
      "/Library/Frameworks/Python.framework/Versions/3.11/bin/pip\n"
     ]
    }
   ],
   "source": [
    "!which pip"
   ]
  },
  {
   "cell_type": "code",
   "execution_count": 3,
   "id": "ac713457-6ee1-4a44-8605-f5440815d676",
   "metadata": {},
   "outputs": [
    {
     "name": "stdout",
     "output_type": "stream",
     "text": [
      "Collecting redis\n",
      "  Downloading redis-5.0.8-py3-none-any.whl.metadata (9.2 kB)\n",
      "Downloading redis-5.0.8-py3-none-any.whl (255 kB)\n",
      "\u001b[2K   \u001b[90m━━━━━━━━━━━━━━━━━━━━━━━━━━━━━━━━━━━━━━━━\u001b[0m \u001b[32m255.6/255.6 kB\u001b[0m \u001b[31m3.3 MB/s\u001b[0m eta \u001b[36m0:00:00\u001b[0ma \u001b[36m0:00:01\u001b[0m\n",
      "\u001b[?25hInstalling collected packages: redis\n",
      "Successfully installed redis-5.0.8\n",
      "\n",
      "\u001b[1m[\u001b[0m\u001b[34;49mnotice\u001b[0m\u001b[1;39;49m]\u001b[0m\u001b[39;49m A new release of pip is available: \u001b[0m\u001b[31;49m24.1.2\u001b[0m\u001b[39;49m -> \u001b[0m\u001b[32;49m24.2\u001b[0m\n",
      "\u001b[1m[\u001b[0m\u001b[34;49mnotice\u001b[0m\u001b[1;39;49m]\u001b[0m\u001b[39;49m To update, run: \u001b[0m\u001b[32;49mpip install --upgrade pip\u001b[0m\n"
     ]
    }
   ],
   "source": [
    "!pip install redis"
   ]
  },
  {
   "cell_type": "code",
   "execution_count": 4,
   "id": "0bc5deee-89e7-4b8c-8f4a-e852363d5ced",
   "metadata": {},
   "outputs": [
    {
     "name": "stdout",
     "output_type": "stream",
     "text": [
      "Collecting oct2py\n",
      "  Downloading oct2py-5.7.0-py3-none-any.whl.metadata (5.0 kB)\n",
      "Requirement already satisfied: numpy>=1.12 in /Library/Frameworks/Python.framework/Versions/3.11/lib/python3.11/site-packages (from oct2py) (1.23.5)\n",
      "Collecting octave-kernel>=0.34.0 (from oct2py)\n",
      "  Downloading octave_kernel-0.36.0-py3-none-any.whl.metadata (8.3 kB)\n",
      "Collecting scipy>=0.17 (from oct2py)\n",
      "  Downloading scipy-1.14.0-cp311-cp311-macosx_14_0_arm64.whl.metadata (60 kB)\n",
      "\u001b[2K     \u001b[90m━━━━━━━━━━━━━━━━━━━━━━━━━━━━━━━━━━━━━━━━\u001b[0m \u001b[32m60.8/60.8 kB\u001b[0m \u001b[31m2.7 MB/s\u001b[0m eta \u001b[36m0:00:00\u001b[0m\n",
      "\u001b[?25hRequirement already satisfied: ipykernel in /Library/Frameworks/Python.framework/Versions/3.11/lib/python3.11/site-packages (from octave-kernel>=0.34.0->oct2py) (6.29.3)\n",
      "Requirement already satisfied: jupyter-client>=4.3.0 in /Library/Frameworks/Python.framework/Versions/3.11/lib/python3.11/site-packages (from octave-kernel>=0.34.0->oct2py) (8.6.1)\n",
      "Collecting metakernel>=0.24.0 (from octave-kernel>=0.34.0->oct2py)\n",
      "  Downloading metakernel-0.30.2-py3-none-any.whl.metadata (7.5 kB)\n",
      "Requirement already satisfied: jupyter-core!=5.0.*,>=4.12 in /Library/Frameworks/Python.framework/Versions/3.11/lib/python3.11/site-packages (from jupyter-client>=4.3.0->octave-kernel>=0.34.0->oct2py) (5.7.2)\n",
      "Requirement already satisfied: python-dateutil>=2.8.2 in /Library/Frameworks/Python.framework/Versions/3.11/lib/python3.11/site-packages (from jupyter-client>=4.3.0->octave-kernel>=0.34.0->oct2py) (2.9.0.post0)\n",
      "Requirement already satisfied: pyzmq>=23.0 in /Library/Frameworks/Python.framework/Versions/3.11/lib/python3.11/site-packages (from jupyter-client>=4.3.0->octave-kernel>=0.34.0->oct2py) (25.1.2)\n",
      "Requirement already satisfied: tornado>=6.2 in /Library/Frameworks/Python.framework/Versions/3.11/lib/python3.11/site-packages (from jupyter-client>=4.3.0->octave-kernel>=0.34.0->oct2py) (6.4)\n",
      "Requirement already satisfied: traitlets>=5.3 in /Library/Frameworks/Python.framework/Versions/3.11/lib/python3.11/site-packages (from jupyter-client>=4.3.0->octave-kernel>=0.34.0->oct2py) (5.14.2)\n",
      "Requirement already satisfied: jedi>=0.18 in /Library/Frameworks/Python.framework/Versions/3.11/lib/python3.11/site-packages (from metakernel>=0.24.0->octave-kernel>=0.34.0->oct2py) (0.19.1)\n",
      "Requirement already satisfied: pexpect>=4.8 in /Library/Frameworks/Python.framework/Versions/3.11/lib/python3.11/site-packages (from metakernel>=0.24.0->octave-kernel>=0.34.0->oct2py) (4.9.0)\n",
      "Requirement already satisfied: appnope in /Library/Frameworks/Python.framework/Versions/3.11/lib/python3.11/site-packages (from ipykernel->octave-kernel>=0.34.0->oct2py) (0.1.4)\n",
      "Requirement already satisfied: comm>=0.1.1 in /Library/Frameworks/Python.framework/Versions/3.11/lib/python3.11/site-packages (from ipykernel->octave-kernel>=0.34.0->oct2py) (0.2.2)\n",
      "Requirement already satisfied: debugpy>=1.6.5 in /Library/Frameworks/Python.framework/Versions/3.11/lib/python3.11/site-packages (from ipykernel->octave-kernel>=0.34.0->oct2py) (1.8.1)\n",
      "Requirement already satisfied: ipython>=7.23.1 in /Library/Frameworks/Python.framework/Versions/3.11/lib/python3.11/site-packages (from ipykernel->octave-kernel>=0.34.0->oct2py) (8.22.2)\n",
      "Requirement already satisfied: matplotlib-inline>=0.1 in /Library/Frameworks/Python.framework/Versions/3.11/lib/python3.11/site-packages (from ipykernel->octave-kernel>=0.34.0->oct2py) (0.1.6)\n",
      "Requirement already satisfied: nest-asyncio in /Library/Frameworks/Python.framework/Versions/3.11/lib/python3.11/site-packages (from ipykernel->octave-kernel>=0.34.0->oct2py) (1.6.0)\n",
      "Requirement already satisfied: packaging in /Library/Frameworks/Python.framework/Versions/3.11/lib/python3.11/site-packages (from ipykernel->octave-kernel>=0.34.0->oct2py) (24.0)\n",
      "Requirement already satisfied: psutil in /Library/Frameworks/Python.framework/Versions/3.11/lib/python3.11/site-packages (from ipykernel->octave-kernel>=0.34.0->oct2py) (5.9.8)\n",
      "Requirement already satisfied: decorator in /Library/Frameworks/Python.framework/Versions/3.11/lib/python3.11/site-packages (from ipython>=7.23.1->ipykernel->octave-kernel>=0.34.0->oct2py) (5.1.1)\n",
      "Requirement already satisfied: prompt-toolkit<3.1.0,>=3.0.41 in /Library/Frameworks/Python.framework/Versions/3.11/lib/python3.11/site-packages (from ipython>=7.23.1->ipykernel->octave-kernel>=0.34.0->oct2py) (3.0.43)\n",
      "Requirement already satisfied: pygments>=2.4.0 in /Library/Frameworks/Python.framework/Versions/3.11/lib/python3.11/site-packages (from ipython>=7.23.1->ipykernel->octave-kernel>=0.34.0->oct2py) (2.17.2)\n",
      "Requirement already satisfied: stack-data in /Library/Frameworks/Python.framework/Versions/3.11/lib/python3.11/site-packages (from ipython>=7.23.1->ipykernel->octave-kernel>=0.34.0->oct2py) (0.6.3)\n",
      "Requirement already satisfied: parso<0.9.0,>=0.8.3 in /Library/Frameworks/Python.framework/Versions/3.11/lib/python3.11/site-packages (from jedi>=0.18->metakernel>=0.24.0->octave-kernel>=0.34.0->oct2py) (0.8.3)\n",
      "Requirement already satisfied: platformdirs>=2.5 in /Library/Frameworks/Python.framework/Versions/3.11/lib/python3.11/site-packages (from jupyter-core!=5.0.*,>=4.12->jupyter-client>=4.3.0->octave-kernel>=0.34.0->oct2py) (4.2.0)\n",
      "Requirement already satisfied: ptyprocess>=0.5 in /Library/Frameworks/Python.framework/Versions/3.11/lib/python3.11/site-packages (from pexpect>=4.8->metakernel>=0.24.0->octave-kernel>=0.34.0->oct2py) (0.7.0)\n",
      "Requirement already satisfied: six>=1.5 in /Library/Frameworks/Python.framework/Versions/3.11/lib/python3.11/site-packages (from python-dateutil>=2.8.2->jupyter-client>=4.3.0->octave-kernel>=0.34.0->oct2py) (1.16.0)\n",
      "Requirement already satisfied: wcwidth in /Library/Frameworks/Python.framework/Versions/3.11/lib/python3.11/site-packages (from prompt-toolkit<3.1.0,>=3.0.41->ipython>=7.23.1->ipykernel->octave-kernel>=0.34.0->oct2py) (0.2.13)\n",
      "Requirement already satisfied: executing>=1.2.0 in /Library/Frameworks/Python.framework/Versions/3.11/lib/python3.11/site-packages (from stack-data->ipython>=7.23.1->ipykernel->octave-kernel>=0.34.0->oct2py) (2.0.1)\n",
      "Requirement already satisfied: asttokens>=2.1.0 in /Library/Frameworks/Python.framework/Versions/3.11/lib/python3.11/site-packages (from stack-data->ipython>=7.23.1->ipykernel->octave-kernel>=0.34.0->oct2py) (2.4.1)\n",
      "Requirement already satisfied: pure-eval in /Library/Frameworks/Python.framework/Versions/3.11/lib/python3.11/site-packages (from stack-data->ipython>=7.23.1->ipykernel->octave-kernel>=0.34.0->oct2py) (0.2.2)\n",
      "Downloading oct2py-5.7.0-py3-none-any.whl (29 kB)\n",
      "Downloading octave_kernel-0.36.0-py3-none-any.whl (35 kB)\n",
      "Downloading scipy-1.14.0-cp311-cp311-macosx_14_0_arm64.whl (23.1 MB)\n",
      "\u001b[2K   \u001b[90m━━━━━━━━━━━━━━━━━━━━━━━━━━━━━━━━━━━━━━━━\u001b[0m \u001b[32m23.1/23.1 MB\u001b[0m \u001b[31m3.4 MB/s\u001b[0m eta \u001b[36m0:00:00\u001b[0m00:01\u001b[0m00:01\u001b[0m\n",
      "\u001b[?25hDownloading metakernel-0.30.2-py3-none-any.whl (217 kB)\n",
      "\u001b[2K   \u001b[90m━━━━━━━━━━━━━━━━━━━━━━━━━━━━━━━━━━━━━━━━\u001b[0m \u001b[32m217.8/217.8 kB\u001b[0m \u001b[31m3.1 MB/s\u001b[0m eta \u001b[36m0:00:00\u001b[0m00:01\u001b[0m0:01\u001b[0m\n",
      "\u001b[?25hInstalling collected packages: scipy, metakernel, octave-kernel, oct2py\n",
      "Successfully installed metakernel-0.30.2 oct2py-5.7.0 octave-kernel-0.36.0 scipy-1.14.0\n",
      "\n",
      "\u001b[1m[\u001b[0m\u001b[34;49mnotice\u001b[0m\u001b[1;39;49m]\u001b[0m\u001b[39;49m A new release of pip is available: \u001b[0m\u001b[31;49m24.1.2\u001b[0m\u001b[39;49m -> \u001b[0m\u001b[32;49m24.2\u001b[0m\n",
      "\u001b[1m[\u001b[0m\u001b[34;49mnotice\u001b[0m\u001b[1;39;49m]\u001b[0m\u001b[39;49m To update, run: \u001b[0m\u001b[32;49mpip install --upgrade pip\u001b[0m\n"
     ]
    }
   ],
   "source": [
    "!pip install oct2py"
   ]
  },
  {
   "cell_type": "code",
   "execution_count": null,
   "id": "b4cd4881-c8ac-4cca-9175-c72202aa21a7",
   "metadata": {},
   "outputs": [],
   "source": []
  }
 ],
 "metadata": {
  "kernelspec": {
   "display_name": "Python 3 (ipykernel)",
   "language": "python",
   "name": "python3"
  },
  "language_info": {
   "codemirror_mode": {
    "name": "ipython",
    "version": 3
   },
   "file_extension": ".py",
   "mimetype": "text/x-python",
   "name": "python",
   "nbconvert_exporter": "python",
   "pygments_lexer": "ipython3",
   "version": "3.11.7"
  }
 },
 "nbformat": 4,
 "nbformat_minor": 5
}
