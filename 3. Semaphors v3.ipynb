{
 "cells": [
  {
   "cell_type": "code",
   "execution_count": null,
   "metadata": {},
   "outputs": [],
   "source": [
    "import subprocess"
   ]
  },
  {
   "cell_type": "code",
   "execution_count": null,
   "metadata": {},
   "outputs": [],
   "outputs": [
    {
     "name": "stdout",
     "output_type": "stream",
     "text": [
      "Octave received: Start\n",
      "1\n",
      "Octave computing...Octave sending: Octave1\n",
      "OK\n",
      "Python received: Octave1\n",
      "\n",
      "Python computing...\n",
      "Python sending: Python 1\n",
      "Octave received: Python 1\n",
      "1\n",
      "Octave computing...Octave sending: Octave2\n",
      "OK\n",
      "Python received: Octave2\n",
      "\n",
      "Python computing...\n",
      "Python sending: Python 2\n",
      "Octave received: Python 2\n",
      "1\n",
      "Octave computing...Octave sending: Octave3\n",
      "OK\n",
      "Python received: Octave3\n",
      "\n",
      "Python computing...\n",
      "Python sending: Python 3\n",
      "Octave received: Python 3\n",
      "1\n",
      "Octave computing...Octave sending: Octave4\n",
      "OK\n",
      "Python received: Octave4\n",
      "\n",
      "Python computing...\n",
      "Python sending: Python 4\n",
      "Octave received: Python 4\n",
      "1\n",
      "Octave computing...Octave sending: Octave5\n",
      "OK\n"
     ]
    },
    {
     "name": "stderr",
     "output_type": "stream",
     "text": [
      "\n"
     ]
    },
    {
     "name": "stdout",
     "output_type": "stream",
     "text": [
      "Python received: Octave5\n",
      "\n",
      "Python computing...\n",
      "Python sending: Python 5\n"
     ]
    }
   ],
   "source": [
    "# Start the Python script\n",
    "python_process = subprocess.Popen([\"python\", \"3_python.py\"])\n",
    "\n",
    "# Start the Octave script\n",
    "octave_process = subprocess.Popen([\"octave\", \"3_octave.m\"])\n",
    "\n",
    "# Wait for processes to complete\n",
    "try:\n",
    "    python_process.wait()\n",
    "    octave_process.wait()\n",
    "except KeyboardInterrupt:\n",
    "    python_process.terminate()\n",
    "    octave_process.terminate()"
   ]
  },
  {
   "cell_type": "code",
   "execution_count": null,
   "metadata": {
    "scrolled": true
   },
   "outputs": [],
   "source": [
    "# Start the Python script\n",
    "python_process = subprocess.Popen([\"python\", \"3_python.py\"])\n",
    "\n",
    "# Start the Octave script\n",
    "octave_process = subprocess.Popen([\"octave\", \"3_octave.m\"])\n",
    "\n",
    "# Wait for processes to complete\n",
    "try:\n",
    "    python_process.wait()\n",
    "    octave_process.wait()\n",
    "except KeyboardInterrupt:\n",
    "    python_process.terminate()\n",
    "    octave_process.terminate()"
   ]
  },
  {
   "cell_type": "code",
   "execution_count": null,
   "metadata": {},
   "outputs": [],
   "source": []
  }
 ],
 "metadata": {
  "kernelspec": {
   "display_name": "collaborazione_terna",
   "language": "python",
   "name": "python3"
  },
  "language_info": {
   "codemirror_mode": {
    "name": "ipython",
    "version": 3
   },
   "file_extension": ".py",
   "mimetype": "text/x-python",
   "name": "python",
   "nbconvert_exporter": "python",
   "pygments_lexer": "ipython3",
   "version": "3.11.9"
  }
 },
 "nbformat": 4,
 "nbformat_minor": 2
}